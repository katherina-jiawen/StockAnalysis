{
 "cells": [
  {
   "cell_type": "markdown",
   "metadata": {},
   "source": [
    "# Project Description"
   ]
  },
  {
   "cell_type": "markdown",
   "metadata": {},
   "source": [
    "The project is focusing on stock analysis. By entering the code of the stock, it can get the data from finance.yahoo.com and calculated the annual return of that specific stock based on the date you enter. \n",
    "It can calculated the annual return for three different situtions. The first return is the very basic annual return and the rest of two calculated when you trade your stock with respected to the moving average*. Here are the detailed information of how the return are calculated:\n",
    "1. The first function (long_hold()) give you the annual return if you hold the stocks from the beginning date to the end without any transactions.\n",
    "2. The second function (analysis.use_ma_long()) gives you the return under the circumstance that you use all the cash to buy in this stock when its closing price is higher than the moving average; You sell all your stocks when the closing price drop under the moving average. \n",
    "3. The third function (analysis.use_ma_long_short()) gives you the return under the circumstance that you clear the short and buy stocks when the closing price is lower than the moving average; You clear the long and short the stocks when the closing price is higher than the moving average.\n",
    "\n",
    "*I designed to calculated the return with respected to the moving average becasue there is a saying in the financial market that you need to buy the stock when the stock price is higher than the moving averge and you need to sell the stock when the stock price is lower than the moving average. \n",
    "\n",
    "** \"Shorting a stock means opening a position by borrowing shares that you don't own and then selling them to another investor.\" definition from google.\n",
    "\n",
    "*** long means you own the stock"
   ]
  },
  {
   "cell_type": "markdown",
   "metadata": {},
   "source": [
    "## Project Code\n",
    "\n",
    "If it makes sense for your project, you can have code and outputs here in the notebook as well."
   ]
  },
  {
   "cell_type": "code",
   "execution_count": 1,
   "metadata": {},
   "outputs": [
    {
     "name": "stdout",
     "output_type": "stream",
     "text": [
      "AAPL Get data successfully...\n"
     ]
    }
   ],
   "source": [
    "from my_module.analysis import Analysis\n",
    "analysis = Analysis('AAPL', '2000-01-01','2010-01-01')"
   ]
  },
  {
   "cell_type": "markdown",
   "metadata": {},
   "source": [
    "## Functions"
   ]
  },
  {
   "cell_type": "code",
   "execution_count": 2,
   "metadata": {},
   "outputs": [
    {
     "name": "stdout",
     "output_type": "stream",
     "text": [
      "Long hold AAPL from 2000-01-02 to 2009-12-30 annualized return is 22.37%\n"
     ]
    },
    {
     "data": {
      "text/plain": [
       "0.2237172236920788"
      ]
     },
     "execution_count": 2,
     "metadata": {},
     "output_type": "execute_result"
    }
   ],
   "source": [
    "analysis.long_hold()"
   ]
  },
  {
   "cell_type": "code",
   "execution_count": 3,
   "metadata": {
    "scrolled": false
   },
   "outputs": [
    {
     "name": "stdout",
     "output_type": "stream",
     "text": [
      "Use 100days ma only buy AAPL from 2000-01-02 to 2009-12-30 annualized return is 22.32%\n"
     ]
    },
    {
     "data": {
      "text/plain": [
       "(100, 0.2231885208115516)"
      ]
     },
     "execution_count": 3,
     "metadata": {},
     "output_type": "execute_result"
    }
   ],
   "source": [
    "analysis.use_ma_long(100)"
   ]
  },
  {
   "cell_type": "code",
   "execution_count": 4,
   "metadata": {
    "scrolled": false
   },
   "outputs": [
    {
     "name": "stdout",
     "output_type": "stream",
     "text": [
      "Use 100days ma long and short AAPL from 2000-01-02 to 2009-12-30 annualized return is 13.4%\n"
     ]
    },
    {
     "data": {
      "text/plain": [
       "(100, 0.13402845705335698)"
      ]
     },
     "execution_count": 4,
     "metadata": {},
     "output_type": "execute_result"
    }
   ],
   "source": [
    "analysis.use_ma_long_short(100)"
   ]
  },
  {
   "cell_type": "markdown",
   "metadata": {},
   "source": [
    "## Tests"
   ]
  },
  {
   "cell_type": "code",
   "execution_count": 5,
   "metadata": {},
   "outputs": [
    {
     "name": "stdout",
     "output_type": "stream",
     "text": [
      "\u001b[1m============================= test session starts ==============================\u001b[0m\n",
      "platform linux -- Python 3.9.5, pytest-6.2.5, py-1.10.0, pluggy-1.0.0\n",
      "rootdir: /home/j2yan/Project_COGS18_FA21\n",
      "plugins: anyio-3.2.1\n",
      "collected 6 items                                                              \u001b[0m\u001b[1m\n",
      "\n",
      "test_functions.py \u001b[32m.\u001b[0m\u001b[32m.\u001b[0m\u001b[32m.\u001b[0m\u001b[32m.\u001b[0m\u001b[32m.\u001b[0m\u001b[32m.\u001b[0m\u001b[32m                                                 [100%]\u001b[0m\n",
      "\n",
      "\u001b[32m============================== \u001b[32m\u001b[1m6 passed\u001b[0m\u001b[32m in 5.77s\u001b[0m\u001b[32m ===============================\u001b[0m\n"
     ]
    }
   ],
   "source": [
    "!pytest test_functions.py"
   ]
  },
  {
   "cell_type": "markdown",
   "metadata": {},
   "source": [
    "#### Extra Credit (*optional*)\n",
    "\n",
    "Replace all of this text with a brief explanation (~3 sentences) of: \n",
    "1. Your Python Background\n",
    "2. How your project went above and beyond the requirements of the project and/or how you challenged yourself to learn something new with the final project"
   ]
  },
  {
   "cell_type": "markdown",
   "metadata": {},
   "source": [
    "1.  I have learnt a little bit programming before. I learnt Jave during the high school for AP Computer Science. However, at that time, i am so bad at programming and i didn't attend the AP exam. And then during summer last year, I watched courses online to learn Python.But still, even though i learnt some basic knowledge about Python , i still did not know how to write one and i was frustrated and afraid of learning Python. I thought i don't have talent in it.  As a result, before taking this course, i always considered myself as 0 knowledge in programming. But this course do help me a lot and i really appreaciate this !!! It helps me go over and learn Python from the beginning and makes everything clear. When i was doing my hw, not only i got back my confidence but even fall in love with the feeling of coding, especially when i solve a problem that stucked me for a hour. I put lot of time and efforts into this final project,  i wish i can get a good score and an A+ to this course a perfect ending and a great beginning in my future Python studies. "
   ]
  },
  {
   "cell_type": "markdown",
   "metadata": {},
   "source": [
    "2. I have chosed a quite complicated and professoional topic with the area (finance) that i want to study in my graduated school. I spent lots of time searching financial and programming knowledge in order to finish this project. For example in the beginning, the problem i faced is how to get all the data. At first i want to put them in to a table and then import that table. However, since there are hundreds of stocks with a long period of time, even if i spent weeks on copying those data it will still not be completed. As a result, i googled online, try different tools, and then i found a package --- pandas_datareader that can download all the data from the website. "
   ]
  },
  {
   "cell_type": "code",
   "execution_count": null,
   "metadata": {},
   "outputs": [],
   "source": []
  }
 ],
 "metadata": {
  "kernelspec": {
   "display_name": "Python 3 (ipykernel)",
   "language": "python",
   "name": "python3"
  },
  "language_info": {
   "codemirror_mode": {
    "name": "ipython",
    "version": 3
   },
   "file_extension": ".py",
   "mimetype": "text/x-python",
   "name": "python",
   "nbconvert_exporter": "python",
   "pygments_lexer": "ipython3",
   "version": "3.9.5"
  }
 },
 "nbformat": 4,
 "nbformat_minor": 2
}
